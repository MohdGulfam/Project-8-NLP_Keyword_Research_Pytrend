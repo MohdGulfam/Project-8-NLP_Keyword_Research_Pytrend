{
  "nbformat": 4,
  "nbformat_minor": 0,
  "metadata": {
    "colab": {
      "name": "Project-8-NLP_Keyword_Research_Pytrend-.ipynb",
      "provenance": [],
      "collapsed_sections": []
    },
    "kernelspec": {
      "name": "python3",
      "display_name": "Python 3"
    }
  },
  "cells": [
    {
      "cell_type": "code",
      "metadata": {
        "id": "5tt2UWcqO9Og"
      },
      "source": [
        " #use the Google API to access Google trends which can be done by using the pytrends library in python. \r\n",
        " #Python being a general-purpose programming language provides libraries and packages for almost every task"
      ],
      "execution_count": 1,
      "outputs": []
    },
    {
      "cell_type": "code",
      "metadata": {
        "colab": {
          "base_uri": "https://localhost:8080/"
        },
        "id": "lIZ1KL4TPliI",
        "outputId": "a1595ffc-61dd-491c-d951-3b361a888f1c"
      },
      "source": [
        "pip install pytrends"
      ],
      "execution_count": 2,
      "outputs": [
        {
          "output_type": "stream",
          "text": [
            "Collecting pytrends\n",
            "  Downloading https://files.pythonhosted.org/packages/96/53/a4a74c33bfdbe1740183e00769377352072e64182913562daf9f5e4f1938/pytrends-4.7.3-py3-none-any.whl\n",
            "Requirement already satisfied: lxml in /usr/local/lib/python3.6/dist-packages (from pytrends) (4.2.6)\n",
            "Requirement already satisfied: requests in /usr/local/lib/python3.6/dist-packages (from pytrends) (2.23.0)\n",
            "Requirement already satisfied: pandas>=0.25 in /usr/local/lib/python3.6/dist-packages (from pytrends) (1.1.5)\n",
            "Requirement already satisfied: certifi>=2017.4.17 in /usr/local/lib/python3.6/dist-packages (from requests->pytrends) (2020.12.5)\n",
            "Requirement already satisfied: idna<3,>=2.5 in /usr/local/lib/python3.6/dist-packages (from requests->pytrends) (2.10)\n",
            "Requirement already satisfied: chardet<4,>=3.0.2 in /usr/local/lib/python3.6/dist-packages (from requests->pytrends) (3.0.4)\n",
            "Requirement already satisfied: urllib3!=1.25.0,!=1.25.1,<1.26,>=1.21.1 in /usr/local/lib/python3.6/dist-packages (from requests->pytrends) (1.24.3)\n",
            "Requirement already satisfied: numpy>=1.15.4 in /usr/local/lib/python3.6/dist-packages (from pandas>=0.25->pytrends) (1.19.5)\n",
            "Requirement already satisfied: python-dateutil>=2.7.3 in /usr/local/lib/python3.6/dist-packages (from pandas>=0.25->pytrends) (2.8.1)\n",
            "Requirement already satisfied: pytz>=2017.2 in /usr/local/lib/python3.6/dist-packages (from pandas>=0.25->pytrends) (2018.9)\n",
            "Requirement already satisfied: six>=1.5 in /usr/local/lib/python3.6/dist-packages (from python-dateutil>=2.7.3->pandas>=0.25->pytrends) (1.15.0)\n",
            "Installing collected packages: pytrends\n",
            "Successfully installed pytrends-4.7.3\n"
          ],
          "name": "stdout"
        }
      ]
    },
    {
      "cell_type": "code",
      "metadata": {
        "id": "eNFpZw5zPe8M"
      },
      "source": [
        "#Trends for trending topics. For that, we need to import the method called TrendReq from the pytrends.request method:\r\n",
        "import pandas as pd\r\n",
        "from pytrends.request import TrendReq\r\n",
        "import matplotlib.pyplot as plt\r\n",
        "trends = TrendReq()"
      ],
      "execution_count": 3,
      "outputs": []
    },
    {
      "cell_type": "code",
      "metadata": {
        "colab": {
          "base_uri": "https://localhost:8080/"
        },
        "id": "TwNqXAolPi4u",
        "outputId": "ac40d829-756b-4abf-ea99-bd57fcc4f054"
      },
      "source": [
        "#Keyword Interest By Region. I will choose the term to search for as “Data Science”:\r\n",
        "trends.build_payload(kw_list=[\"Data Science\"])\r\n",
        "data = trends.interest_by_region()\r\n",
        "print(data.sample(10))\r\n",
        "#Values ​​are calculated on a scale of 0 to 100,\r\n",
        "#where 100 is the most popular location as a fraction of the total searches for that location, \r\n",
        "#a value of 50 indicates a location half as popular"
      ],
      "execution_count": 4,
      "outputs": [
        {
          "output_type": "stream",
          "text": [
            "                   Data Science\n",
            "geoName                        \n",
            "Burundi                       0\n",
            "Sweden                       13\n",
            "Cuba                          0\n",
            "Sierra Leone                  0\n",
            "Guernsey                      0\n",
            "Samoa                         0\n",
            "Pitcairn Islands              0\n",
            "Antigua & Barbuda             0\n",
            "Mexico                        6\n",
            "Maldives                      0\n"
          ],
          "name": "stdout"
        }
      ]
    },
    {
      "cell_type": "code",
      "metadata": {
        "colab": {
          "base_uri": "https://localhost:8080/",
          "height": 449
        },
        "id": "kt8v6dsVP1W8",
        "outputId": "b90344ac-b7f7-4e56-c75a-0b69e3e7db5a"
      },
      "source": [
        "#Now let’s visualize the above search results to get better insights:\r\n",
        "data = data.sample(15)\r\n",
        "data.reset_index().plot(x=\"geoName\", y=\"Data Science\", figsize=(20,5), kind=\"bar\")\r\n",
        "plt.show()"
      ],
      "execution_count": 5,
      "outputs": [
        {
          "output_type": "display_data",
          "data": {
            "image/png": "[encoded data removed]",
            "text/plain": [
              "<Figure size 1440x360 with 1 Axes>"
            ]
          },
          "metadata": {
            "tags": [],
            "needs_background": "light"
          }
        }
      ]
    },
    {
      "cell_type": "code",
      "metadata": {
        "colab": {
          "base_uri": "https://localhost:8080/"
        },
        "id": "HAQnZPC1QbmY",
        "outputId": "4cbcb2ca-5938-4573-eb69-975ed9bceb7d"
      },
      "source": [
        "#Keyword Research with Python for Daily Search Trends\r\n",
        "#use the trending_searches () method:\r\n",
        "data = trends.trending_searches(pn=\"india\")\r\n",
        "print(data.head(20))"
      ],
      "execution_count": 6,
      "outputs": [
        {
          "output_type": "stream",
          "text": [
            "                                       0\n",
            "0              West Indies vs Bangladesh\n",
            "1                    Indian cricket team\n",
            "2                      Narendra Chanchal\n",
            "3                        The White Tiger\n",
            "4                         James Anderson\n",
            "5                   Subhash Chandra Bose\n",
            "6   Perth Scorchers vs Hobart Hurricanes\n",
            "7                            SNAP Result\n",
            "8            Netaji Subhash Chandra Bose\n",
            "9                     Biocon share price\n",
            "10                    Bandhan Bank share\n",
            "11                               Alibaug\n",
            "12                Bajaj Auto share price\n",
            "13                             Natarajan\n",
            "14                            Earthquake\n",
            "15             Carbon Capture technology\n",
            "16                      Super Over movie\n",
            "17                  Madam Chief Minister\n",
            "18                       Atletico Madrid\n",
            "19                              Hitman 3\n"
          ],
          "name": "stdout"
        }
      ]
    },
    {
      "cell_type": "code",
      "metadata": {
        "colab": {
          "base_uri": "https://localhost:8080/"
        },
        "id": "bgeJXnO9Qbqe",
        "outputId": "c09258af-69fa-4d04-813d-537de9bf36b1"
      },
      "source": [
        "#Google Keyword Suggestion\r\n",
        "#Keywords are those words that are mostly typed by users in the search engine to find about a particular topic:\r\n",
        "keyword = trends.suggestions(keyword=\"Tesla\")\r\n",
        "data = pd.DataFrame(keyword)\r\n",
        "print(data.head(5))\r\n"
      ],
      "execution_count": 7,
      "outputs": [
        {
          "output_type": "stream",
          "text": [
            "             mid          title                           type\n",
            "0      /m/0dr90d    Tesla, Inc.           Electric car company\n",
            "1     /m/0j6n6s8          Tesla                Automobile make\n",
            "2  /g/11c3x48pb7  Tesla Model 3                 Luxury vehicle\n",
            "3  /g/11gb_4f22x  Tesla Model Y  Compact sport utility vehicle\n",
            "4     /m/04cylkl  Tesla Model S                      Car model\n"
          ],
          "name": "stdout"
        }
      ]
    },
    {
      "cell_type": "code",
      "metadata": {
        "id": "ewCF00PkRdDN"
      },
      "source": [
        ""
      ],
      "execution_count": 7,
      "outputs": []
    }
  ]
}